{
  "nbformat": 4,
  "nbformat_minor": 0,
  "metadata": {
    "colab": {
      "name": "1주차 과제(2020.05.21).ipynb",
      "provenance": [],
      "collapsed_sections": [],
      "authorship_tag": "ABX9TyPB9mwZfNPptHeJajn1ZnaC",
      "include_colab_link": true
    },
    "kernelspec": {
      "name": "python3",
      "display_name": "Python 3"
    }
  },
  "cells": [
    {
      "cell_type": "markdown",
      "metadata": {
        "id": "view-in-github",
        "colab_type": "text"
      },
      "source": [
        "<a href=\"https://colab.research.google.com/github/Kim-hee-ah/report/blob/master/1%EC%A3%BC%EC%B0%A8_%EA%B3%BC%EC%A0%9C(2020_05_21).ipynb\" target=\"_parent\"><img src=\"https://colab.research.google.com/assets/colab-badge.svg\" alt=\"Open In Colab\"/></a>"
      ]
    },
    {
      "cell_type": "markdown",
      "metadata": {
        "id": "HaNtmad2I6pv",
        "colab_type": "text"
      },
      "source": [
        "#**1주차 과제(2020.05.21)**\n",
        "##4가지 분야의 기술을 사용하는 4가지 제품 및 서비스를 찾아 보기\n",
        "--------\n",
        "###**1. 언어**\n",
        "**파파고**\n",
        "네이버가 무료로 제공하는 기계 번역 서비스이다. 번역기 서비스를 제공하는 사이트는 현재 셀 수 없을 정도로 많은데 그 중에서도 파파고를 선정한 이유는 바로 이것이다.\n",
        "![파파고의 댕댕이 번역](https://papago.naver.com/)\n",
        "###**2. 음성**\n",
        "**클로바**\n",
        "\n",
        "\n",
        "###**3. 이미지**\n",
        "**스노우**\n",
        "\n",
        "\n",
        "###**4. 자율주행**\n",
        "**테슬라**\n",
        "\n"
      ]
    }
  ]
}